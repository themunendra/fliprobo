{
 "cells": [
  {
   "cell_type": "code",
   "execution_count": 7,
   "metadata": {},
   "outputs": [],
   "source": [
    "import cv2\n",
    "import os\n",
    "import numpy as np\n",
    "import pickle"
   ]
  },
  {
   "cell_type": "code",
   "execution_count": 8,
   "metadata": {},
   "outputs": [],
   "source": [
    "image_dir = 'C:/Users/Administrator/Desktop/FlipRobo/FRP03-FaceRecognition/images'"
   ]
  },
  {
   "cell_type": "code",
   "execution_count": 9,
   "metadata": {},
   "outputs": [],
   "source": [
    "#load cascade classifier training file for haarcascade\n",
    "xml_path = 'C:/Anaconda3/Lib/site-packages/cv2/data/haarcascade_frontalface_default.xml'\n",
    "face_cascade = cv2.CascadeClassifier(xml_path)"
   ]
  },
  {
   "cell_type": "code",
   "execution_count": 10,
   "metadata": {},
   "outputs": [],
   "source": [
    "recognizer = cv2.face.LBPHFaceRecognizer_create()"
   ]
  },
  {
   "cell_type": "code",
   "execution_count": 11,
   "metadata": {},
   "outputs": [],
   "source": [
    "current_id = 0\n",
    "label_ids = {}\n",
    "y_labels = []\n",
    "x_train = []\n",
    "\n",
    "for root, dirs, files in os.walk(image_dir):\n",
    "    for file in files:\n",
    "        if file.endswith(\"png\") or file.endswith(\"jpg\") or file.endswith(\"jpeg\"):\n",
    "            path = os.path.join(root, file)\n",
    "            label = os.path.basename(root).replace(\" \", \"-\").lower()\n",
    "            \n",
    "            if not label in label_ids:\n",
    "                label_ids[label] = current_id\n",
    "                current_id += 1 \n",
    "            id_ = label_ids[label]\n",
    "\n",
    "            curr_img = cv2.imread(path)\n",
    "            curr_img_gray = cv2.cvtColor(curr_img, cv2.COLOR_BGR2GRAY)            \n",
    "            faces = face_cascade.detectMultiScale(curr_img_gray, scaleFactor=1.3, minNeighbors=5)\n",
    "\n",
    "            for (x,y,w,h) in faces:\n",
    "                roi = curr_img_gray[y:y+h, x:x+w]\n",
    "                x_train.append(roi)\n",
    "                y_labels.append(id_)"
   ]
  },
  {
   "cell_type": "code",
   "execution_count": 12,
   "metadata": {},
   "outputs": [],
   "source": [
    "with open(\"face-labels.pickle\", 'wb') as f:\n",
    "    pickle.dump(label_ids, f)\n",
    "\n",
    "recognizer.train(x_train, np.array(y_labels))\n",
    "recognizer.save(\"face-trainner.yml\")"
   ]
  },
  {
   "cell_type": "code",
   "execution_count": null,
   "metadata": {},
   "outputs": [],
   "source": []
  }
 ],
 "metadata": {
  "kernelspec": {
   "display_name": "Python 3",
   "language": "python",
   "name": "python3"
  },
  "language_info": {
   "codemirror_mode": {
    "name": "ipython",
    "version": 3
   },
   "file_extension": ".py",
   "mimetype": "text/x-python",
   "name": "python",
   "nbconvert_exporter": "python",
   "pygments_lexer": "ipython3",
   "version": "3.7.4"
  }
 },
 "nbformat": 4,
 "nbformat_minor": 4
}

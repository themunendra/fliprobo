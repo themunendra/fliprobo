{
 "cells": [
  {
   "cell_type": "code",
   "execution_count": 1,
   "metadata": {},
   "outputs": [],
   "source": [
    "import numpy as np\n",
    "import cv2\n",
    "import pickle\n",
    "from datetime import datetime"
   ]
  },
  {
   "cell_type": "code",
   "execution_count": 2,
   "metadata": {},
   "outputs": [],
   "source": [
    "#load cascade classifier training file for haarcascade\n",
    "xml_path = 'C:/Anaconda3/Lib/site-packages/cv2/data/haarcascade_frontalface_default.xml'\n",
    "face_cascade = cv2.CascadeClassifier(xml_path)"
   ]
  },
  {
   "cell_type": "code",
   "execution_count": 8,
   "metadata": {},
   "outputs": [],
   "source": [
    "recognizer = cv2.face.LBPHFaceRecognizer_create()\n",
    "recognizer.read(\"./face-trainner.yml\")"
   ]
  },
  {
   "cell_type": "code",
   "execution_count": 9,
   "metadata": {},
   "outputs": [
    {
     "data": {
      "text/plain": [
       "{0: 'munendra', 1: 'neha'}"
      ]
     },
     "execution_count": 9,
     "metadata": {},
     "output_type": "execute_result"
    }
   ],
   "source": [
    "labels = {}\n",
    "with open(\"face-labels.pickle\", 'rb') as f:\n",
    "    og_labels = pickle.load(f)\n",
    "    labels = {v:k for k,v in og_labels.items()}\n",
    "\n",
    "labels"
   ]
  },
  {
   "cell_type": "code",
   "execution_count": 17,
   "metadata": {},
   "outputs": [],
   "source": [
    "# Function to detect and recognize faces in a frame\n",
    "\n",
    "def detect_face_vid(frame):\n",
    "    \n",
    "    gray=cv2.cvtColor(frame, cv2.COLOR_BGR2GRAY)\n",
    "    faces=face_cascade.detectMultiScale(gray, scaleFactor=1.2, minNeighbors=5)\n",
    "        \n",
    "    if len(faces):\n",
    "        if ts[2] == False:\n",
    "            ts[0] = datetime.now()\n",
    "            ts[2] = True\n",
    "\n",
    "        for (x,y,w,h) in faces:\n",
    "            #Draw rectangle around faces\n",
    "            cv2.rectangle(frame, (x, y), (x+w, y+h), (255, 0, 0), 2)\n",
    "\n",
    "            #Try to recognize face\n",
    "            roi_gray = gray[y:y+h, x:x+w] \n",
    "            id_, conf = recognizer.predict(roi_gray)\n",
    "            #print(conf, id_)\n",
    "\n",
    "            #if conf>=50 and conf<=95:\n",
    "            font = cv2.FONT_HERSHEY_SIMPLEX \n",
    "            name = str(labels[id_])\n",
    "            cv2.putText(frame, name, (x,y), font, 1, (255, 255, 255), 2) \n",
    "            ts[3] = name\n",
    "    else:\n",
    "        if ts[2] == True:\n",
    "            ts[1] = datetime.now()\n",
    "            ts[2] = False\n",
    "            diff = ts[1]-ts[0]\n",
    "            if diff.seconds!=0:\n",
    "                faceFound.append((ts[3], diff.seconds, ts[0].strftime(\"%m/%d/%Y %H:%M:%S\"), ts[1].strftime(\"%m/%d/%Y %H:%M:%S\")))\n",
    "            #faceFound[labels[id_]] = diff.seconds\n",
    "            #print('Face Detected. From:',ts[0].strftime(\"%m/%d/%Y, %H:%M:%S\"),' to:',ts[1].strftime(\"%m/%d/%Y, %H:%M:%S\"))\n",
    "        pass        \n",
    "        \n",
    "    return frame"
   ]
  },
  {
   "cell_type": "markdown",
   "metadata": {},
   "source": [
    "### For Video"
   ]
  },
  {
   "cell_type": "code",
   "execution_count": 18,
   "metadata": {},
   "outputs": [
    {
     "data": {
      "text/plain": [
       "[('neha', 12, '01/15/2020 15:05:58', '01/15/2020 15:06:11'),\n",
       " ('neha', 5, '01/15/2020 15:06:15', '01/15/2020 15:06:20'),\n",
       " ('munendra', 4, '01/15/2020 15:06:33', '01/15/2020 15:06:38'),\n",
       " ('munendra', 16, '01/15/2020 15:06:39', '01/15/2020 15:06:55')]"
      ]
     },
     "execution_count": 18,
     "metadata": {},
     "output_type": "execute_result"
    }
   ],
   "source": [
    "# Capture time duration of faces detected\n",
    "faceFound = []\n",
    "ts = [0,0,False,'Unknown']\n",
    "\n",
    "video_capture = cv2.VideoCapture(\"C:/Users/Administrator/Desktop/FlipRobo/FRP03-FaceRecognition/facerecog3.mp4\")\n",
    "#video_capture = cv2.VideoCapture(0)\n",
    "while True:\n",
    "    ret, frame = video_capture.read()\n",
    "    if ret:\n",
    "        frame_with_face=detect_face_vid(cv2.flip(cv2.transpose(frame), 1))\n",
    "        cv2.imshow(\"Result\",frame_with_face)\n",
    "        if cv2.waitKey(1) & 0xFF == ord('q'):\n",
    "            break\n",
    "    else:\n",
    "        break\n",
    "video_capture.release()\n",
    "cv2.destroyAllWindows()\n",
    "\n",
    "faceFound"
   ]
  },
  {
   "cell_type": "code",
   "execution_count": null,
   "metadata": {},
   "outputs": [],
   "source": []
  }
 ],
 "metadata": {
  "kernelspec": {
   "display_name": "Python 3",
   "language": "python",
   "name": "python3"
  },
  "language_info": {
   "codemirror_mode": {
    "name": "ipython",
    "version": 3
   },
   "file_extension": ".py",
   "mimetype": "text/x-python",
   "name": "python",
   "nbconvert_exporter": "python",
   "pygments_lexer": "ipython3",
   "version": "3.7.4"
  }
 },
 "nbformat": 4,
 "nbformat_minor": 4
}

{
 "cells": [
  {
   "cell_type": "code",
   "execution_count": 7,
   "metadata": {},
   "outputs": [],
   "source": [
    "import numpy as np # linear algebra\n",
    "import pandas as pd # data processing, CSV file I/O (e.g. pd.read_csv)\n",
    "import math\n",
    "import cv2\n",
    "import matplotlib.pyplot as plt\n",
    "import seaborn as sns\n",
    "import glob\n",
    "\n",
    "import warnings\n",
    "warnings.filterwarnings('ignore')"
   ]
  },
  {
   "cell_type": "markdown",
   "metadata": {},
   "source": [
    "### For Images"
   ]
  },
  {
   "cell_type": "code",
   "execution_count": 15,
   "metadata": {},
   "outputs": [
    {
     "name": "stdout",
     "output_type": "stream",
     "text": [
      "Total Faces detected:  657\n"
     ]
    }
   ],
   "source": [
    "detected =[]\n",
    "\n",
    "# path = \"C:/Users/Administrator/Downloads/UTKface_inthewild/*.*\"\n",
    "path = \"C:/Users/Administrator/Desktop/FlipRobo/data/test/*.*\"\n",
    "\n",
    "for file in glob.glob(path):\n",
    "    img = cv2.imread(file)\n",
    "    gray_img = cv2.cvtColor(img, cv2.COLOR_BGR2GRAY)\n",
    "    \n",
    "    #load cascade classifier training file for haarcascade\n",
    "    xml_path = 'C:/Users/Administrator/Anaconda3/Lib/site-packages/cv2/data/haarcascade_frontalface_default.xml'\n",
    "    face_cascade = cv2.CascadeClassifier(xml_path)\n",
    "    faces=face_cascade.detectMultiScale(gray_img,1.1,5)\n",
    "    \n",
    "    if len(faces)==0:\n",
    "        continue\n",
    "    else:\n",
    "        i+=1\n",
    "        detected.append(len(faces))\n",
    "        for (x,y,w,h) in faces:\n",
    "            detected_img = cv2.rectangle(img,(x,y),(x+w,y+w),(0,255,0),3)\n",
    "            cv2.imwrite(file, detected_img)\n",
    "\n",
    "print('Total Faces detected: ', len(detected))"
   ]
  },
  {
   "cell_type": "markdown",
   "metadata": {},
   "source": [
    "### For Recorded Video"
   ]
  },
  {
   "cell_type": "code",
   "execution_count": 16,
   "metadata": {},
   "outputs": [],
   "source": [
    "def process(frame):\n",
    "    gray=cv2.cvtColor(frame, cv2.COLOR_BGR2GRAY)\n",
    "    faces=face_cascade.detectMultiScale(gray,1.1,4)\n",
    "    for (x,y,w,h) in faces:\n",
    "        cv2.rectangle(frame,(x,y),(x+w,y+w),(0,255,0),3)\n",
    "    return frame\n",
    "\n",
    "video_capture = cv2.VideoCapture(\"C:/Users/Administrator/Desktop/FlipRobo/FRP01-FaceDetection/data/face-demographics-walking-and-pause.mp4\")\n",
    "while True:\n",
    "    ret, frame = video_capture.read()\n",
    "    if ret:\n",
    "        frame=process(frame)\n",
    "        cv2.imshow(\"video\",frame)\n",
    "        if cv2.waitKey(1) & 0xFF == ord('q'):\n",
    "            break\n",
    "    else:\n",
    "        break\n",
    "video_capture.release()\n",
    "cv2.destroyAllWindows()"
   ]
  },
  {
   "cell_type": "markdown",
   "metadata": {},
   "source": [
    "### For Live Video"
   ]
  },
  {
   "cell_type": "code",
   "execution_count": 17,
   "metadata": {},
   "outputs": [],
   "source": [
    "def process(frame):\n",
    "    gray=cv2.cvtColor(frame, cv2.COLOR_BGR2GRAY)\n",
    "    faces=face_cascade.detectMultiScale(gray,1.1,4)\n",
    "    for (x,y,w,h) in faces:\n",
    "        cv2.rectangle(frame,(x,y),(x+w,y+w),(0,255,0),3)\n",
    "    return frame\n",
    "\n",
    "video_capture = cv2.VideoCapture(0)\n",
    "while True:\n",
    "    ret, frame = video_capture.read()\n",
    "    if ret:\n",
    "        frame=process(frame)\n",
    "        cv2.imshow(\"video\",frame)\n",
    "        if cv2.waitKey(1) & 0xFF == ord('q'):\n",
    "            break\n",
    "    else:\n",
    "        break\n",
    "video_capture.release()\n",
    "cv2.destroyAllWindows()"
   ]
  },
  {
   "cell_type": "code",
   "execution_count": 14,
   "metadata": {},
   "outputs": [
    {
     "data": {
      "text/plain": [
       "2"
      ]
     },
     "execution_count": 14,
     "metadata": {},
     "output_type": "execute_result"
    }
   ],
   "source": [
    "1+1"
   ]
  },
  {
   "cell_type": "code",
   "execution_count": null,
   "metadata": {},
   "outputs": [],
   "source": []
  }
 ],
 "metadata": {
  "kernelspec": {
   "display_name": "Python 3",
   "language": "python",
   "name": "python3"
  },
  "language_info": {
   "codemirror_mode": {
    "name": "ipython",
    "version": 3
   },
   "file_extension": ".py",
   "mimetype": "text/x-python",
   "name": "python",
   "nbconvert_exporter": "python",
   "pygments_lexer": "ipython3",
   "version": "3.7.3"
  }
 },
 "nbformat": 4,
 "nbformat_minor": 2
}
